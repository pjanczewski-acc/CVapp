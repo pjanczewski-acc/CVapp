{
 "cells": [
  {
   "cell_type": "code",
   "execution_count": 4,
   "metadata": {},
   "outputs": [],
   "source": [
    "import os\n",
    "import json\n",
    "import openai\n",
    "import pandas as pd\n",
    "import datetime as dt\n",
    "import streamlit as st\n",
    "import unidecode as ud\n",
    "from os.path import exists\n",
    "from pptx import Presentation\n",
    "# from pptx.enum.shapes import MSO_SHAPE\n",
    "# from pptx.dml.color import RGBColor"
   ]
  },
  {
   "cell_type": "code",
   "execution_count": 14,
   "metadata": {},
   "outputs": [],
   "source": [
    "##############\n",
    "# Input file locations and names\n",
    "##############\n",
    "\n",
    "acn_login = os.getlogin()\n",
    "folderCV = \"C:/Users/\" + acn_login + \"/Accenture/Warsaw Analytics - Documents\"\n",
    "folderAV = \"C:/Users/\" + acn_login + \"/Accenture/Staffing & productivity AI group - General\"\n",
    "folderApp = \"C:/Users/\" + acn_login + \"/Desktop/genAI/FeedbApp\"\n",
    "\n",
    "CVpptxNm = \"/01_CVs/Warsaw_Analytics_FY23_template.pptx\"\n",
    "CVpptxPt = folderCV + CVpptxNm\n",
    "AVxlsxNm = \"/Dashboard/myScheduling_People_Extract.xlsx\"\n",
    "LCRxlsNm = \"/Dashboard/Staffing_data - LCR calc.xlsx\"\n",
    "AVxlsxPt = folderAV + AVxlsxNm\n",
    "LCRxlsPt = folderAV + LCRxlsNm\n",
    "Sel_txt = folderApp + '/01_CVs/CVapp/sel_list.txt'"
   ]
  },
  {
   "cell_type": "code",
   "execution_count": 9,
   "metadata": {},
   "outputs": [],
   "source": [
    "# Load configuration from JSON file\n",
    "with open(folderApp + \"/config.json\", mode=\"r\") as f:\n",
    "    config = json.load(f)\n",
    "\n",
    "client = openai.AzureOpenAI(\n",
    "        azure_endpoint=config[\"AZURE_ENDPOINT\"],\n",
    "        api_key= config[\"AZURE_API_KEY\"],\n",
    "        api_version=\"2023-12-01-preview\")"
   ]
  },
  {
   "cell_type": "code",
   "execution_count": 23,
   "metadata": {},
   "outputs": [],
   "source": [
    "# Loading input files\n",
    "CVprs = Presentation(open(CVpptxPt, \"rb\"))\n",
    "AVexl = pd.read_excel(AVxlsxPt, 'People_Extract', header=0)\n",
    "AVexl = AVexl[['Resource Email', 'First Availability Date']]\n",
    "LCRxl = pd.read_excel(LCRxlsPt, 'LCR', header=0)\n",
    "LCRxl = LCRxl[['Enterprise ID', 'LCR in $']]"
   ]
  },
  {
   "cell_type": "code",
   "execution_count": null,
   "metadata": {},
   "outputs": [],
   "source": [
    "##############\n",
    "# Scraping the pptx to produce a table with slidenums, names and positions\n",
    "##############\n",
    "\n",
    "CVlist = []\n",
    "Sel_list = []\n",
    "\n",
    "for slide in CVprs.slides:\n",
    "    sldnm = CVprs.slides.index(slide)+1\n",
    "    if slide.shapes.title != None:\n",
    "        persn = ud.unidecode(slide.shapes.title.text.title()).strip()\n",
    "        title = ''\n",
    "        deptm = ''\n",
    "        for shape in slide.shapes:\n",
    "            if (shape.left > 5500000 and shape.left < 10000000 and\n",
    "                shape.top < 500000):  # locating shape with job title\n",
    "                if(len(shape.text.split(','))) > 1:\n",
    "                    title = shape.text.split(',')[0]\n",
    "                    deptm = shape.text.split(',')[1]\n",
    "                else:\n",
    "                    title = shape.text\n",
    "                    deptm = ''\n",
    "        if persn not in ['Team Cvs', 'Template']: \n",
    "            CVlist.append([sldnm, persn, title, deptm])\n",
    "\n",
    "CVdf = pd.DataFrame(list(CVlist),\n",
    "                    columns=['Slide', 'Person', 'Title', 'Dept'])"
   ]
  }
 ],
 "metadata": {
  "kernelspec": {
   "display_name": "Python 3",
   "language": "python",
   "name": "python3"
  },
  "language_info": {
   "codemirror_mode": {
    "name": "ipython",
    "version": 3
   },
   "file_extension": ".py",
   "mimetype": "text/x-python",
   "name": "python",
   "nbconvert_exporter": "python",
   "pygments_lexer": "ipython3",
   "version": "3.11.9"
  }
 },
 "nbformat": 4,
 "nbformat_minor": 2
}
